{
 "cells": [
  {
   "cell_type": "code",
   "execution_count": 40,
   "metadata": {},
   "outputs": [],
   "source": [
    "from sqlalchemy import create_engine\n",
    "import pandas as pd\n",
    "import geopandas as gpd\n",
    "import matplotlib.pyplot as plt\n",
    "import descartes\n",
    "import psycopg2  \n",
    "import subprocess \n",
    "import sys, os\n",
    "import math\n",
    "\n",
    "import stac\n",
    "from osgeo import gdal, ogr, osr\n",
    "import rasterio\n",
    "\n",
    "from datetime import datetime\n",
    "\n",
    "import ipywidgets as widgets"
   ]
  },
  {
   "cell_type": "markdown",
   "metadata": {},
   "source": [
    "## Obtenção dos itens da coleção do BDC"
   ]
  },
  {
   "cell_type": "code",
   "execution_count": 63,
   "metadata": {
    "scrolled": true
   },
   "outputs": [
    {
     "name": "stdout",
     "output_type": "stream",
     "text": [
      "LC8SR-1 -  33239\n",
      "LC8_30_16D_STK-1 -  3381\n",
      "S2_MSI_L2_SR_LASRC-1 -  24791\n",
      "S2_10_16D_STK-1 -  852\n"
     ]
    }
   ],
   "source": [
    "# Conectar o serviço da stac\n",
    "bdc_stac_service = stac.STAC('http://brazildatacube.dpi.inpe.br/')\n",
    "\n",
    "# Obter itens filtrados pelo objeto JSON (https://stacspec.org/STAC-api.html#operation/postSearchSTAC)\n",
    "lc8_root = bdc_stac_service.search({'collections':['LC8SR-1'], \n",
    "                                    'limit': 100000})\n",
    "\n",
    "lc8_bdc = bdc_stac_service.search({'collections':['LC8_30_16D_STK-1'], \n",
    "                                    'limit': 100000})\n",
    "\n",
    "s2_root = bdc_stac_service.search({'collections':['S2_MSI_L2_SR_LASRC-1'], \n",
    "                                    'limit': 100000})\n",
    "\n",
    "s2_bdc = bdc_stac_service.search({'collections':['S2_10_16D_STK-1'], \n",
    "                                    'limit': 100000})\n",
    "\n",
    "list_collections = [lc8_root, lc8_bdc, s2_root, s2_bdc]\n",
    "\n",
    "# Exibir as quantidades de itens filtrados\n",
    "print(\"LC8SR-1 - \", len(lc8_root.features))\n",
    "print(\"LC8_30_16D_STK-1 - \", len(lc8_bdc.features))\n",
    "print(\"S2_MSI_L2_SR_LASRC-1 - \", len(s2_root.features))\n",
    "print(\"S2_10_16D_STK-1 - \", len(s2_bdc.features))"
   ]
  },
  {
   "cell_type": "code",
   "execution_count": 71,
   "metadata": {},
   "outputs": [
    {
     "data": {
      "text/plain": [
       "'21LXC'"
      ]
     },
     "execution_count": 71,
     "metadata": {},
     "output_type": "execute_result"
    }
   ],
   "source": [
    "s2_root.features[0]['properties']['bdc:tile']"
   ]
  },
  {
   "cell_type": "markdown",
   "metadata": {},
   "source": [
    "## Conexão com o banco de dados 'bdc3'"
   ]
  },
  {
   "cell_type": "code",
   "execution_count": 64,
   "metadata": {},
   "outputs": [],
   "source": [
    "conn = psycopg2.connect(database=\"bdc3\", user=\"postgres\", host=\"localhost\", password=\"postgres\") \n",
    "cursor = conn.cursor()"
   ]
  },
  {
   "cell_type": "markdown",
   "metadata": {},
   "source": [
    "### Criar tabela com os metadados das imagens a serem inseridas"
   ]
  },
  {
   "cell_type": "markdown",
   "metadata": {},
   "source": [
    "Essa tabela já pode ser inserida no momento da criação do banco. Nesse caso, a célula seguinte seria desconsiderada."
   ]
  },
  {
   "cell_type": "markdown",
   "metadata": {},
   "source": [
    "**<center>Colunas da tabela</center>**"
   ]
  },
  {
   "cell_type": "markdown",
   "metadata": {},
   "source": [
    "| id        | collection           | date_img  | cover |\n",
    "| :-------------:|:-------------:|:-----:|:-----:|\n",
    "| VARCHAR(60) NOT NULL UNIQUE     | VARCHAR(30) | DATE | REAL |"
   ]
  },
  {
   "cell_type": "code",
   "execution_count": 73,
   "metadata": {},
   "outputs": [],
   "source": [
    "# Criar tabela\n",
    "sql = \"CREATE TABLE metadata_metrics(id VARCHAR(60) NOT NULL UNIQUE, pathrow VARCHAR(6), collection VARCHAR(60), date_img DATE, cover REAL);\"\n",
    "cursor.execute(sql)\n",
    "conn.commit()"
   ]
  },
  {
   "cell_type": "markdown",
   "metadata": {},
   "source": [
    "### Importação das imagens filtradas para o BD (cmd)"
   ]
  },
  {
   "cell_type": "code",
   "execution_count": 74,
   "metadata": {},
   "outputs": [
    {
     "name": "stdout",
     "output_type": "stream",
     "text": [
      "LC8SR-1\n",
      "LC08_L1TP_224078_20191226_20200110_01_T1\n",
      "LC08_L1TP_224078_20191210_20191217_01_T1\n",
      "LC08_L1TP_224078_20191124_20191203_01_T1\n",
      "LC08_L1GT_002067_20191121_20191203_01_T2\n",
      "LC08_L1TP_224078_20191108_20191115_01_T1\n",
      "LC08_L1TP_224078_20191023_20191030_01_T1\n",
      "LC08_L1TP_224078_20191007_20191018_01_T1\n",
      "LC08_L1TP_224078_20190921_20190926_01_T1\n",
      "LC08_L1TP_224078_20190905_20190917_01_T1\n",
      "LC08_L1TP_224078_20190820_20190903_01_T1\n",
      "LC08_L1TP_224078_20190804_20190820_01_T1\n",
      "LC08_L1GT_224078_20190719_20190731_01_T2\n",
      "LC08_L1TP_224078_20190703_20190718_01_T1\n",
      "LC08_L1TP_224078_20190617_20190620_01_T1\n",
      "LC08_L1GT_224078_20190601_20190605_01_T2\n",
      "LC08_L1TP_224078_20190516_20190521_01_T1\n",
      "LC08_L1TP_224078_20190430_20190508_01_T1\n",
      "LC08_L1TP_224078_20190414_20190422_01_T1\n",
      "LC08_L1TP_224078_20190329_20190404_01_T1\n",
      "LC08_L1GT_224078_20190313_20190325_01_T2\n",
      "LC08_L1TP_224078_20190225_20190309_01_T1\n",
      "LC08_L1TP_224078_20190209_20190222_01_T1\n",
      "LC08_L1TP_224078_20190124_20190205_01_T1\n",
      "LC08_L1GT_224078_20190108_20190130_01_T2\n",
      "LC08_L1TP_224078_20181223_20190129_01_T1\n",
      "LC08_L1TP_224078_20181207_20181211_01_T1\n",
      "LC08_L1TP_224078_20181121_20181129_01_T1\n",
      "LC08_L1TP_224078_20181105_20181115_01_T1\n",
      "LC08_L1TP_224078_20181020_20181031_01_T1\n",
      "LC08_L1TP_224078_20181004_20181010_01_T1\n",
      "LC08_L1TP_224078_20180918_20180928_01_T1\n",
      "LC08_L1GT_224078_20180902_20180912_01_T2\n",
      "LC08_L1TP_224078_20180817_20180829_01_T1\n",
      "LC08_L1TP_224078_20180801_20180814_01_T1\n",
      "LC08_L1TP_224078_20180716_20180730_01_T1\n",
      "LC08_L1TP_224078_20180630_20180716_01_T1\n",
      "LC08_L1GT_224078_20180614_20180703_01_T2\n",
      "LC08_L1TP_227066_20180603_20180615_01_T1\n",
      "LC08_L1TP_224078_20180529_20180605_01_T1\n",
      "LC08_L1TP_224078_20180513_20180517_01_T1\n",
      "LC08_L1TP_224078_20180427_20180502_01_T1\n",
      "LC08_L1TP_224078_20180411_20180417_01_T1\n",
      "LC08_L1TP_224078_20180326_20180404_01_T1\n",
      "LC08_L1TP_224078_20180310_20180320_01_T1\n",
      "LC08_L1TP_224078_20180222_20180308_01_T1\n",
      "LC08_L1TP_224078_20180206_20180221_01_T1\n",
      "LC08_L1TP_224078_20180121_20180206_01_T1\n",
      "LC08_L1TP_224078_20180105_20180118_01_T1\n",
      "LC08_L1GT_224078_20171220_20171224_01_T2\n",
      "LC08_L1TP_224078_20171204_20171222_01_T1\n",
      "LC08_L1TP_224078_20171118_20171205_01_T1\n",
      "LC08_L1TP_224078_20171102_20171109_01_T1\n",
      "LC08_L1TP_227066_20171022_20171107_01_T1\n",
      "LC08_L1TP_224078_20171017_20171024_01_T1\n",
      "LC08_L1TP_001066_20171007_20171023_01_T1\n",
      "LC08_L1TP_224078_20171001_20171013_01_T1\n",
      "LC08_L1TP_227066_20170920_20171012_01_T1\n",
      "LC08_L1TP_231063_20170916_20170929_01_T1\n",
      "LC08_L1TP_224078_20170915_20170928_01_T1\n",
      "LC08_L1TP_224078_20170830_20170915_01_T1\n",
      "LC08_L1TP_224078_20170814_20170825_01_T1\n",
      "LC08_L1TP_224078_20170729_20170811_01_T1\n",
      "LC08_L1TP_224078_20170713_20170726_01_T1\n",
      "LC08_L1TP_224078_20170627_20170714_01_T1\n",
      "LC08_L1TP_224078_20170611_20170628_01_T1\n",
      "LC08_L1TP_224078_20170526_20170615_01_T1\n",
      "LC08_L1TP_224078_20170510_20170516_01_T1\n",
      "LC08_L1TP_224078_20170424_20170502_01_T1\n",
      "LC08_L1GT_224078_20170408_20170414_01_T2\n",
      "LC08_L1TP_224078_20170323_20170329_01_T1\n",
      "LC08_L1TP_224078_20170307_20170317_01_T1\n",
      "LC08_L1TP_224078_20170219_20170301_01_T1\n",
      "LC08_L1TP_224078_20170203_20170215_01_T1\n",
      "LC08_L1TP_224078_20170118_20170311_01_T1\n",
      "LC08_L1TP_224078_20170102_20170312_01_T1\n",
      "LC08_L1TP_227066_20161206_20180528_01_T1\n",
      "LC08_L1TP_001067_20161121_20170318_01_T2\n",
      "LC08_L1TP_230062_20161008_20170320_01_T1\n",
      "LC08_L1TP_230062_20160922_20170321_01_T1\n",
      "LC08_L1TP_231062_20160913_20170321_01_T1\n",
      "LC08_L1TP_226067_20160910_20170321_01_T1\n",
      "LC8_30_16D_STK-1\n",
      "S2_MSI_L2_SR_LASRC-1\n",
      "S2_10_16D_STK-1\n"
     ]
    }
   ],
   "source": [
    "# Criação das variáveis do sistema para utilização do CMD\n",
    "os.environ['PATH'] = r';C:\\Program Files\\PostgreSQL\\11\\bin'\n",
    "os.environ['PGHOST'] = 'localhost'\n",
    "os.environ['PGPORT'] = '5432'\n",
    "os.environ['PGUSER'] = 'postgres'\n",
    "os.environ['PGPASSWORD'] = 'postgres'\n",
    "os.environ['PGDATABASE'] = 'bdc3'\n",
    "\n",
    "# iteração em cada item adquirido para inserção das imagens no DB \"bdc3\"\n",
    "for x in list_collections:\n",
    "    \n",
    "    print(x.features[0]['collection'])\n",
    "    \n",
    "    for i in x.features:\n",
    "    \n",
    "        # Adquirir os dados das imagens\n",
    "        name = i['id']\n",
    "        date = i['properties']['datetime']\n",
    "        collection = i['collection']\n",
    "        cloud = str(i['properties']['eo:cloud_cover'])\n",
    "        path_row = i['properties']['bdc:tile']\n",
    "\n",
    "\n",
    "        if cloud == 'None':\n",
    "            print(name)\n",
    "            cloud = '0'\n",
    "        \n",
    "        # Inserir a referencia do input na tabela de metadados\n",
    "        sql = \"INSERT INTO metadata_metrics (id, collection, pathrow, date_img, cover) VALUES ('\" + name + \"','\" + collection + \"','\" + path_row + \"','\" + date + \"'::date, \"+ cloud + \");\"\n",
    "        cursor.execute(sql)\n",
    "        conn.commit()"
   ]
  },
  {
   "cell_type": "markdown",
   "metadata": {},
   "source": [
    "### Apagar tabela (Interno)"
   ]
  },
  {
   "cell_type": "code",
   "execution_count": 72,
   "metadata": {},
   "outputs": [],
   "source": [
    "sql = \"DROP TABLE IF EXISTS metadata_metrics\"\n",
    "cursor.execute(sql)\n",
    "conn.commit()"
   ]
  },
  {
   "cell_type": "code",
   "execution_count": null,
   "metadata": {},
   "outputs": [],
   "source": []
  }
 ],
 "metadata": {
  "kernelspec": {
   "display_name": "Python (NeoGeo)",
   "language": "python",
   "name": "neogeo"
  },
  "language_info": {
   "codemirror_mode": {
    "name": "ipython",
    "version": 3
   },
   "file_extension": ".py",
   "mimetype": "text/x-python",
   "name": "python",
   "nbconvert_exporter": "python",
   "pygments_lexer": "ipython3",
   "version": "3.7.7"
  }
 },
 "nbformat": 4,
 "nbformat_minor": 4
}
