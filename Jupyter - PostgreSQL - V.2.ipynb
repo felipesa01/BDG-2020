{
 "cells": [
  {
   "cell_type": "code",
   "execution_count": 1,
   "metadata": {},
   "outputs": [],
   "source": [
    "from sqlalchemy import create_engine\n",
    "import pandas as pd\n",
    "import geopandas as gpd\n",
    "import matplotlib.pyplot as plt\n",
    "import descartes\n",
    "import psycopg2  \n",
    "import subprocess \n",
    "import sys, os\n",
    "import math\n",
    "\n",
    "import stac\n",
    "from osgeo import gdal, ogr, osr\n",
    "import rasterio\n",
    "\n",
    "from datetime import datetime\n",
    "\n",
    "import ipywidgets as widgets"
   ]
  },
  {
   "cell_type": "markdown",
   "metadata": {},
   "source": [
    "## Aquisição dos parâmetros de seleção do usuário"
   ]
  },
  {
   "cell_type": "code",
   "execution_count": 2,
   "metadata": {},
   "outputs": [
    {
     "data": {
      "application/vnd.jupyter.widget-view+json": {
       "model_id": "d9d95977fd9b4e0fba9d05f25d225669",
       "version_major": 2,
       "version_minor": 0
      },
      "text/plain": [
       "ToggleButtons(description='Selecione o sensor:', options=(('Landsat 8', 'LC8SR-1'), ('Sentinel 2', 'S2_10-1'))…"
      ]
     },
     "metadata": {},
     "output_type": "display_data"
    }
   ],
   "source": [
    "# Inserir \"ambos\"\n",
    "\n",
    "sensor = widgets.ToggleButtons(\n",
    "    options=[('Landsat 8','LC8SR-1'),('Sentinel 2','S2_10-1')],\n",
    "    description='Selecione o sensor:',\n",
    "    disabled=False,\n",
    "    button_style='', # 'success', 'info', 'warning', 'danger' or ''\n",
    "#     tooltips=['Description of slow', 'Description of regular', 'Description of fast'],\n",
    "#     icons=['check'] * 3\n",
    ")\n",
    "\n",
    "sensor"
   ]
  },
  {
   "cell_type": "markdown",
   "metadata": {},
   "source": [
    "## Obtenção dos itens da coleção do BDC"
   ]
  },
  {
   "cell_type": "code",
   "execution_count": null,
   "metadata": {
    "scrolled": true
   },
   "outputs": [],
   "source": [
    "# Conectar o serviço da stac\n",
    "bdc_stac_service = stac.STAC('http://brazildatacube.dpi.inpe.br/')\n",
    "\n",
    "# Obter itens filtrados pelo objeto JSON (https://stacspec.org/STAC-api.html#operation/postSearchSTAC)\n",
    "item = bdc_stac_service.search({'collections':[sensor.value], \n",
    "                                'limit': 50000})\n",
    "\n",
    "# Exibir as quantidades de itens filtrados\n",
    "print(\"Filtragem Final -> localização e data: \", len(item.features))"
   ]
  },
  {
   "cell_type": "markdown",
   "metadata": {},
   "source": [
    "## Conexão com o banco de dados 'bdc3'"
   ]
  },
  {
   "cell_type": "code",
   "execution_count": null,
   "metadata": {},
   "outputs": [],
   "source": [
    "conn = psycopg2.connect(database=\"bdc3\", user=\"postgres\", host=\"localhost\", password=\"postgres\") \n",
    "cursor = conn.cursor()"
   ]
  },
  {
   "cell_type": "markdown",
   "metadata": {},
   "source": [
    "### Criar tabela com os metadados das imagens a serem inseridas"
   ]
  },
  {
   "cell_type": "markdown",
   "metadata": {},
   "source": [
    "Essa tabela já pode ser inserida no momento da criação do banco. Nesse caso, a célula seguinte seria desconsiderada."
   ]
  },
  {
   "cell_type": "markdown",
   "metadata": {},
   "source": [
    "**<center>Colunas da tabela</center>**"
   ]
  },
  {
   "cell_type": "markdown",
   "metadata": {},
   "source": [
    "| id        | collection           | date_img  | cover |\n",
    "| :-------------:|:-------------:|:-----:|:-----:|\n",
    "| VARCHAR(60) NOT NULL UNIQUE     | VARCHAR(30) | DATE | REAL |"
   ]
  },
  {
   "cell_type": "code",
   "execution_count": null,
   "metadata": {},
   "outputs": [],
   "source": [
    "# Criar tabela\n",
    "sql = \"CREATE TABLE metadata_metrics(id VARCHAR(60) NOT NULL UNIQUE,pathrow CHAR(6), collection VARCHAR(30), date_img DATE, cover REAL);\"\n",
    "cursor.execute(sql)\n",
    "conn.commit()"
   ]
  },
  {
   "cell_type": "markdown",
   "metadata": {},
   "source": [
    "### Importação das imagens filtradas para o BD (cmd)"
   ]
  },
  {
   "cell_type": "code",
   "execution_count": null,
   "metadata": {},
   "outputs": [],
   "source": [
    "# Criação das variáveis do sistema para utilização do CMD\n",
    "os.environ['PATH'] = r';C:\\Program Files\\PostgreSQL\\11\\bin'\n",
    "os.environ['PGHOST'] = 'localhost'\n",
    "os.environ['PGPORT'] = '5432'\n",
    "os.environ['PGUSER'] = 'postgres'\n",
    "os.environ['PGPASSWORD'] = 'postgres'\n",
    "os.environ['PGDATABASE'] = 'bdc3'\n",
    "\n",
    "# iteração em cada item adquirido para inserção das imagens no DB \"bdc3\"\n",
    "for i in item.features:\n",
    "    \n",
    "    # Adquirir os dados das imagens\n",
    "    name = i['id']\n",
    "    date = i['properties']['datetime']\n",
    "    collection = i['collection']\n",
    "    cloud = str(i['properties']['eo:cloud_cover'])\n",
    "    \n",
    "    if collection == 'LC8SR-1':\n",
    "        path_row = i['id'][10:16]\n",
    "    elif collection == 'S2_10-1':\n",
    "        path_row = i['id'][11:17]\n",
    "    \n",
    "    if cloud == 'None':\n",
    "        print(name)\n",
    "    else:\n",
    "        # Inserir a referencia do input na tabela de metadados\n",
    "        sql = \"INSERT INTO metadata_metrics (id, collection, pathrow, date_img, cover) VALUES ('\" + name + \"','\" + collection + \"','\" + path_row + \"','\" + date + \"'::date, \"+ cloud + \");\"\n",
    "        cursor.execute(sql)\n",
    "        conn.commit()"
   ]
  },
  {
   "cell_type": "markdown",
   "metadata": {},
   "source": [
    "### Apagar tabela (Interno)"
   ]
  },
  {
   "cell_type": "code",
   "execution_count": null,
   "metadata": {},
   "outputs": [],
   "source": [
    "sql = \"DROP TABLE IF EXISTS metadata_metrics\"\n",
    "cursor.execute(sql)\n",
    "conn.commit()"
   ]
  }
 ],
 "metadata": {
  "kernelspec": {
   "display_name": "Python (NeoGeo)",
   "language": "python",
   "name": "neogeo"
  },
  "language_info": {
   "codemirror_mode": {
    "name": "ipython",
    "version": 3
   },
   "file_extension": ".py",
   "mimetype": "text/x-python",
   "name": "python",
   "nbconvert_exporter": "python",
   "pygments_lexer": "ipython3",
   "version": "3.7.7"
  }
 },
 "nbformat": 4,
 "nbformat_minor": 4
}
